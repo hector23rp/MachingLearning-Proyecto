{
 "cells": [
  {
   "cell_type": "markdown",
   "metadata": {
    "colab_type": "text",
    "id": "yveCx7k-gm_g"
   },
   "source": [
    "# DecMegBrain with McFly tool"
   ]
  },
  {
   "cell_type": "markdown",
   "metadata": {
    "colab_type": "text",
    "id": "oIFkG9pUgm_i"
   },
   "source": [
    "En este Notebook aplicamos una herramienta llamada **McFly**. Mcfly, implementa el desarrollo de las **DeepConvLSTM** que fueron desarrrolladas en un principio en Theano. Al estar deprecado, se intentó aplicar a Keras, sin embargo, algunas de las fases de esta implementación no eran posibles en este framework y por ello, aparece la necesidad en este proyecto de utilizar Mcfly. \n",
    "\n",
    "![texto alternativo](https://mcfly.readthedocs.io/en/latest/_static/mcflylogo.png)\n",
    "\n",
    "\n",
    "\n",
    "[Fuente artículo DeepConvLSTM](https://www.mdpi.com/1424-8220/16/1/115/htm)\n",
    "\n",
    "[Repositorio original implementación en Theano](https://github.com/sussexwearlab/DeepConvLSTM/blob/master/DeepConvLSTM.ipynb)\n",
    "\n",
    "\n",
    "\n",
    "Esta herramienta no sólo aplica **DeepConvLSTM** sino que también crea modelos aleatorios tanto de **CNNs** como de **LSTM**  y además, permite la visualización y búsqueda de mejores parámetros y el mejor modelo de los propuestos aleatoriamente según el número de modelos que definamos manualmente. \n",
    "\n",
    "\n",
    "![Imagen genérica DeepConvLSTM](https://www.mdpi.com/sensors/sensors-16-00115/article_deploy/html/images/sensors-16-00115-g003.png)\n",
    "\n",
    "\n",
    "Los layers 6 y 7 corresponderían a redes LSTM.\n",
    "\n",
    "\n",
    "\n",
    "**BASE DE DATOS UTILIZADA:**\n",
    "\n",
    "Según las bases de datos creadas tras los distintos preprocesados, hemos utilizado el preprocesado que se trataba de la aplicación de filtro anti-aliasing, valores a partir de 500ms, disminución de sensores con mayor correlación y normalización de datos con z-score.\n",
    "\n",
    "Reduciendo de (9414, 306, 375) a  (6024, 126, 31).\n",
    "\n",
    "**CAMBIOS EN EL DATA SET:**\n",
    "\n",
    "La herramienta implementa redes con un loss: **categorical_crossentropy** por lo que tuvimos que realizar algunos cambios en y_train porque recibía las etiquetas como categoricas y discretizadas con one-hot.\n",
    "\n",
    "* Librería: sklearn.preprocessing import LabelEncoder\n",
    "\n",
    "\n",
    "**PARÁMETROS:**\n",
    "Utilizamos los mejores parámetros obtenidos en el mejor entrenamiento con LSTM:\n",
    "\n",
    "* Epochs:7\n",
    "* Sigmoid en la última capa, dado que por defecto usaba softmax y en nuestro caso tenemos una clasficiación binaria\n",
    "* Batch_set: todas las imagenes\n",
    "\n",
    "\n",
    "**CAMBIOS EN LA HERRAMIENTA PARA NUESTRO CASO:**\n",
    "\n",
    "Tuvimos que entrar en los ficheros y modificar:\n",
    "*  modelgen.py \n",
    "* find_architecture.py \n",
    "\n",
    "**Entornos** (ambos explicados)\n",
    "\n",
    "* Local\n",
    "* Google Colaboratory\n",
    "\n",
    "En el caso de Google Colaboratory seguir los pasos de creación oficiales y subir a Drive la carpeta llamada 'env_mcfly' del repositorio.\n",
    "\n",
    "\n",
    "\n",
    "[mcfly installation page](https://github.com/NLeSC/mcfly)\n",
    "\n",
    "\n"
   ]
  },
  {
   "cell_type": "markdown",
   "metadata": {
    "colab_type": "text",
    "id": "BV8VKxJYgm_j"
   },
   "source": [
    "\n",
    "\n",
    "\n",
    "## Import required Python modules"
   ]
  },
  {
   "cell_type": "code",
   "execution_count": 1,
   "metadata": {
    "colab": {
     "base_uri": "https://localhost:8080/",
     "height": 139
    },
    "colab_type": "code",
    "executionInfo": {
     "elapsed": 366806,
     "status": "ok",
     "timestamp": 1550663496994,
     "user": {
      "displayName": "isaamarod colabs_google",
      "photoUrl": "",
      "userId": "07524249469007373927"
     },
     "user_tz": -60
    },
    "id": "Ggcrh_sLgm_l",
    "outputId": "ca6524e2-c302-4f0d-8ff8-c8f545802492",
    "scrolled": false
   },
   "outputs": [
    {
     "name": "stderr",
     "output_type": "stream",
     "text": [
      "Using TensorFlow backend.\n"
     ]
    },
    {
     "name": "stdout",
     "output_type": "stream",
     "text": [
      "Go to this URL in a browser: https://accounts.google.com/o/oauth2/auth?client_id=947318989803-6bn6qk8qdgf4n4g3pfee6491hc0brc4i.apps.googleusercontent.com&redirect_uri=urn%3Aietf%3Awg%3Aoauth%3A2.0%3Aoob&scope=email%20https%3A%2F%2Fwww.googleapis.com%2Fauth%2Fdocs.test%20https%3A%2F%2Fwww.googleapis.com%2Fauth%2Fdrive%20https%3A%2F%2Fwww.googleapis.com%2Fauth%2Fdrive.photos.readonly%20https%3A%2F%2Fwww.googleapis.com%2Fauth%2Fpeopleapi.readonly&response_type=code\n",
      "\n",
      "Enter your authorization code:\n",
      "··········\n",
      "Mounted at /content/drive\n"
     ]
    }
   ],
   "source": [
    "import sys\n",
    "import os\n",
    "import numpy as np\n",
    "import pandas as pd\n",
    "\n",
    "from sklearn.linear_model import LogisticRegression\n",
    "from sklearn.model_selection import train_test_split\n",
    "from sklearn import metrics\n",
    "from sklearn import preprocessing#integer to categorical\n",
    "##one hot encoding\n",
    "from sklearn.preprocessing import LabelEncoder\n",
    "from keras.utils import np_utils\n",
    "\n",
    "from scipy.io import loadmat\n",
    "import seaborn as sns\n",
    "import matplotlib.pyplot as plt\n",
    "\n",
    "!pip install -q mcfly\n",
    "\n",
    "# mcfly\n",
    "from mcfly import modelgen, find_architecture, storage\n",
    "from keras.models import load_model\n",
    "from keras.utils import np_utils\n",
    "np.random.seed(2)\n",
    "\n",
    "##Drive imports\n",
    "\n",
    "# Load the Drive helper and mount\n",
    "from google.colab import drive\n",
    "\n",
    "# This will prompt for authorization.\n",
    "drive.mount('/content/drive')\n",
    "import glob\n",
    "\n",
    "\n"
   ]
  },
  {
   "cell_type": "markdown",
   "metadata": {
    "colab_type": "text",
    "id": "wZos2C9xoWIP"
   },
   "source": [
    "##**Necesitamos modificar los archivos modelgen.py y find_architecture.py tal y como se comentó en la introducción** \n",
    "*  En el caso de estar en local únicamente.\n",
    "\n",
    "*  En el caso de usar Google Colaboratory hay que seguir estos pasos cargando modelgen.py y find_architecture.py modificados desde local a la máquina virtual de google.\n",
    "\n",
    "\n",
    "\n",
    "\n",
    "\n",
    "**Importante: Los cambios de las librerías en la máquina virtual se eliminan al terminar la sesión**\n"
   ]
  },
  {
   "cell_type": "markdown",
   "metadata": {
    "colab_type": "text",
    "id": "AGoT6-PD_dLl"
   },
   "source": [
    "##Modificando McFly en Local\n",
    "\n",
    "\n",
    "\n",
    "1.   Accedemos a la ubicación de Mcfly en este caso dado que en local usamos un entorno virtual de Anaconda: **home/user_name/anaconda3/lib/python3.6/site-packages/mcfly**\n",
    "2.   Modificamos:\n",
    "\n",
    "     * modelgen.py \n",
    "       * Reemplazamos ''softmax' por 'sigmoid' lineas 201 y 266\n",
    "     \n",
    "     * find_architecture.py \n",
    "      *  Reemplazamos nr_epochs=5 por nr_epochs=7 lineas 41 y 168\n",
    "      *  Reemplazamos batch_size=20 por batch_size=100 linea 43\n",
    "\n",
    "\n",
    "\n"
   ]
  },
  {
   "cell_type": "markdown",
   "metadata": {
    "colab_type": "text",
    "id": "ZAMRaabapdOS"
   },
   "source": [
    "## Modificando McFly en Google Colaboratory:\n",
    "\n",
    "\n",
    "\n",
    "\n"
   ]
  },
  {
   "cell_type": "markdown",
   "metadata": {
    "colab_type": "text",
    "id": "aQrDB__aqiHS"
   },
   "source": [
    "**¿Dónde está instalado McFly en la MV?**"
   ]
  },
  {
   "cell_type": "code",
   "execution_count": 0,
   "metadata": {
    "colab": {
     "base_uri": "https://localhost:8080/",
     "height": 34
    },
    "colab_type": "code",
    "executionInfo": {
     "elapsed": 586,
     "status": "ok",
     "timestamp": 1550614315729,
     "user": {
      "displayName": "isaamarod colabs_google",
      "photoUrl": "",
      "userId": "07524249469007373927"
     },
     "user_tz": -60
    },
    "id": "mgDGoXscqWsd",
    "outputId": "57d39589-27ef-4456-f25b-d8cadf31193d"
   },
   "outputs": [
    {
     "data": {
      "text/plain": [
       "<module 'mcfly' from '/usr/local/lib/python3.6/dist-packages/mcfly/__init__.py'>"
      ]
     },
     "execution_count": 28,
     "metadata": {
      "tags": []
     },
     "output_type": "execute_result"
    }
   ],
   "source": [
    "import mcfly\n",
    "mcfly"
   ]
  },
  {
   "cell_type": "markdown",
   "metadata": {
    "colab_type": "text",
    "id": "jy2b3hTAF0AU"
   },
   "source": [
    "* Accedemos a la ruta en Google Colaboratory\n",
    "  * Menú desplegable de la izquierda\n",
    "![texto alternativo](https://i.stack.imgur.com/3r3Ou.png)\n",
    "\n",
    "  * Accedemos a la ruta de mcfly \n",
    "  * Comprobamos que los dos archivos tengan los cambios"
   ]
  },
  {
   "cell_type": "markdown",
   "metadata": {
    "colab_type": "text",
    "id": "p0m2IKizrz2v"
   },
   "source": [
    "* Abrimos modelgen.py y find_architecture.py siguiendo los pasos que aparecen en las imágenes a continuación para comprobar que estén modificados correctamente. ***Parece ser que coge los cambios en local directamente***\n",
    "\n"
   ]
  },
  {
   "cell_type": "code",
   "execution_count": 0,
   "metadata": {
    "colab": {
     "base_uri": "https://localhost:8080/",
     "height": 34
    },
    "colab_type": "code",
    "executionInfo": {
     "elapsed": 603,
     "status": "ok",
     "timestamp": 1550614322585,
     "user": {
      "displayName": "isaamarod colabs_google",
      "photoUrl": "",
      "userId": "07524249469007373927"
     },
     "user_tz": -60
    },
    "id": "XLzBVC6qsrjH",
    "outputId": "3ea27b13-1a14-4d30-d74f-74769ce85d00"
   },
   "outputs": [
    {
     "name": "stdout",
     "output_type": "stream",
     "text": [
      "/usr/local/lib/python3.6/dist-packages/mcfly\n"
     ]
    }
   ],
   "source": [
    "cd /usr/local/lib/python3.6/dist-packages/mcfly/"
   ]
  },
  {
   "cell_type": "code",
   "execution_count": 0,
   "metadata": {
    "colab": {
     "base_uri": "https://localhost:8080/",
     "height": 51
    },
    "colab_type": "code",
    "executionInfo": {
     "elapsed": 2618,
     "status": "ok",
     "timestamp": 1550614393237,
     "user": {
      "displayName": "isaamarod colabs_google",
      "photoUrl": "",
      "userId": "07524249469007373927"
     },
     "user_tz": -60
    },
    "id": "2DdVGTC_sxiD",
    "outputId": "ca67a613-3c56-4b05-9afa-669ab0ac3338"
   },
   "outputs": [
    {
     "name": "stdout",
     "output_type": "stream",
     "text": [
      ".   find_architecture.py  modelgen.py  storage.py\n",
      "..  __init__.py\t\t  __pycache__  _version.py\n"
     ]
    }
   ],
   "source": [
    "!ls -a"
   ]
  },
  {
   "cell_type": "markdown",
   "metadata": {
    "colab_type": "text",
    "id": "32HliACbp0R3"
   },
   "source": [
    "##**Definición del entorno donde se extraerán los datos**"
   ]
  },
  {
   "cell_type": "markdown",
   "metadata": {
    "colab_type": "text",
    "id": "EjlvNAJntHSl"
   },
   "source": [
    "##Local"
   ]
  },
  {
   "cell_type": "code",
   "execution_count": 0,
   "metadata": {
    "colab": {},
    "colab_type": "code",
    "id": "RCDfpEt9tE3u"
   },
   "outputs": [],
   "source": [
    "sys.path.insert(0, os.path.abspath('../..'))\n",
    "directory_to_extract_to = '/home/isa/Escritorio/Universidad/master/ML/PROYECTO/env_mcfly'"
   ]
  },
  {
   "cell_type": "markdown",
   "metadata": {
    "colab_type": "text",
    "id": "Ix-CqzRGs5VL"
   },
   "source": [
    "##Google Colaboratory"
   ]
  },
  {
   "cell_type": "code",
   "execution_count": 0,
   "metadata": {
    "colab": {},
    "colab_type": "code",
    "id": "Co_uE-Kwgm_r"
   },
   "outputs": [],
   "source": [
    "\n",
    "\n",
    "sys.path.insert(0, os.path.abspath('../..'))\n",
    "directory_to_extract_to =glob.glob('/content/drive/My Drive/Colab NoteBooks/env_mcfly')\n",
    "\n",
    "\n"
   ]
  },
  {
   "cell_type": "markdown",
   "metadata": {
    "colab_type": "text",
    "id": "ontS3fTap9zf"
   },
   "source": [
    "#**HANDS ON LAB!**\n",
    "\n",
    "![texto alternativo](https://i1.wp.com/npptraining.com/wp-content/uploads/2018/06/handonlab.png?fit=205%2C221&ssl=1)"
   ]
  },
  {
   "cell_type": "markdown",
   "metadata": {
    "colab_type": "text",
    "id": "66-H11HZKldp"
   },
   "source": [
    "#PREPARACIÓN DE LOS DATOS"
   ]
  },
  {
   "cell_type": "markdown",
   "metadata": {
    "colab_type": "text",
    "id": "uwzCJC73gm_u"
   },
   "source": [
    "## Importación de datos ya preprocesados\n",
    "\n",
    "Esta implementación se hace directamente con los datos del cuarto preprocesamiento: por lo que nos ahorramos los pasos hechos en otros notebooks y cargamos los datos directamente.\n",
    "\n",
    "***Nota: para agilizar el proceso, se cargan los datos directamente ya divididos en train,test y val. Descomentar para poder generarlos y guardarlos***"
   ]
  },
  {
   "cell_type": "markdown",
   "metadata": {
    "colab_type": "text",
    "id": "BOhoR7shGNP7"
   },
   "source": [
    "** CARGA DE DATOS DESDE LOCAL **"
   ]
  },
  {
   "cell_type": "code",
   "execution_count": 0,
   "metadata": {
    "colab": {},
    "colab_type": "code",
    "id": "zQ32bMphG3eu"
   },
   "outputs": [],
   "source": [
    "y_train = np.load(\"y_train.npy\")\n",
    "X_train = np.load(\"X_train.npy\")"
   ]
  },
  {
   "cell_type": "markdown",
   "metadata": {
    "colab_type": "text",
    "id": "nudSoNEuEMOd"
   },
   "source": [
    "**CARGA DE DATOS GOOGLE COLABORATORY **\n"
   ]
  },
  {
   "cell_type": "code",
   "execution_count": 0,
   "metadata": {
    "colab": {
     "base_uri": "https://localhost:8080/",
     "height": 71
    },
    "colab_type": "code",
    "executionInfo": {
     "elapsed": 2262,
     "status": "ok",
     "timestamp": 1550567955624,
     "user": {
      "displayName": "isaamarod colabs_google",
      "photoUrl": "",
      "userId": "07524249469007373927"
     },
     "user_tz": -60
    },
    "id": "wXZYDxcTl0Cj",
    "outputId": "f485c58a-2979-40c4-b0fd-9b21d587e1d1"
   },
   "outputs": [
    {
     "name": "stdout",
     "output_type": "stream",
     "text": [
      "modelcomparison.json  X_train.npy\t y_train_binary_2.npy\n",
      "X_test.npy\t      X_val.npy\t\t y_train.npy\n",
      "X_train_2.npy\t      y_test_binary.npy  y_val_binary.npy\n"
     ]
    }
   ],
   "source": [
    "!ls \"/content/drive/My Drive/Colab Notebooks/env_mcfly\""
   ]
  },
  {
   "cell_type": "code",
   "execution_count": 0,
   "metadata": {
    "colab": {
     "base_uri": "https://localhost:8080/",
     "height": 71
    },
    "colab_type": "code",
    "executionInfo": {
     "elapsed": 3222,
     "status": "ok",
     "timestamp": 1550567959353,
     "user": {
      "displayName": "isaamarod colabs_google",
      "photoUrl": "",
      "userId": "07524249469007373927"
     },
     "user_tz": -60
    },
    "id": "BCfF5fh7gm__",
    "outputId": "a7b5126f-9ba6-45a9-c054-8b84865923a4"
   },
   "outputs": [
    {
     "name": "stdout",
     "output_type": "stream",
     "text": [
      "[0 0 1 ... 1 0 0]\n",
      "(9414,)\n",
      "(9414, 126, 31)\n"
     ]
    }
   ],
   "source": [
    "y_train = np.load(\"/content/drive/My Drive/Colab Notebooks/env_mcfly/y_train.npy\")\n",
    "X_train = np.load(\"/content/drive/My Drive/Colab Notebooks/env_mcfly/X_train.npy\")\n",
    "\n",
    "print(y_train)\n",
    "\n",
    "#(y_train.dtype)\n",
    "print(y_train.shape)\n",
    "print(X_train.shape)\n",
    "\n"
   ]
  },
  {
   "cell_type": "markdown",
   "metadata": {
    "colab_type": "text",
    "id": "555TEDuVEk0-"
   },
   "source": [
    "##División del Dataset en Train, Test y Val (descomentar en el caso de no tenerlo)"
   ]
  },
  {
   "cell_type": "code",
   "execution_count": 0,
   "metadata": {
    "colab": {},
    "colab_type": "code",
    "id": "Nhrngo1dgnAD"
   },
   "outputs": [],
   "source": [
    "'''\n",
    "\n",
    "X_train_1, X_test, y_train_binary, y_test_binary = train_test_split(X_train, y_train, test_size=0.2, random_state=1)\n",
    "\n",
    "X_train_2, X_val, y_train_binary_2, y_val_binary = train_test_split(X_train_1, y_train_binary, test_size=0.2, random_state=1)\n",
    "'''"
   ]
  },
  {
   "cell_type": "markdown",
   "metadata": {
    "colab_type": "text",
    "id": "j6rq5H6HEwYf"
   },
   "source": [
    "###Guardar los conjuntos de Train, Test y Val (descomentar en el caso de no tenerlo)"
   ]
  },
  {
   "cell_type": "markdown",
   "metadata": {
    "colab_type": "text",
    "id": "hEh7qnsCHT92"
   },
   "source": [
    "**Local**\n"
   ]
  },
  {
   "cell_type": "code",
   "execution_count": 0,
   "metadata": {
    "colab": {},
    "colab_type": "code",
    "id": "sqxNUt72HWd7"
   },
   "outputs": [],
   "source": [
    "''''\n",
    "np.save(\"y_train_binary_2.npy\",y_train_binary_2) #debe tener y_train_binary_2 (6024,)\n",
    "np.save(\"y_val_binary.npy\",y_val_binary)#debe tener y_val_binary (1507,)\n",
    "np.save(\"X_train_2.npy\",X_train_2)#(6024, 306, 375)\n",
    "np.save(\"X_test.npy\",X_test)\n",
    "np.save(\"y_test_binary.npy\",y_test_binary)#debe tener y_test_binary (1883,)\n",
    "np.save(\"X_val.npy\",X_val)\n",
    "'''"
   ]
  },
  {
   "cell_type": "markdown",
   "metadata": {
    "colab_type": "text",
    "id": "sZOtZcagHPZX"
   },
   "source": [
    "**Google Colaboratory**"
   ]
  },
  {
   "cell_type": "code",
   "execution_count": 0,
   "metadata": {
    "colab": {},
    "colab_type": "code",
    "id": "MBfPXDvMEvZ0"
   },
   "outputs": [],
   "source": [
    "'''\n",
    "\n",
    "#np.save('y_train_binary.npy',y_train_binary) #debe tener y_train_binary (9414,)\n",
    "np.save(\"/content/drive/My Drive/Colab Notebooks/env_mcfly/y_train_binary_2.npy\",y_train_binary_2) #debe tener y_train_binary_2 (6024,)\n",
    "np.save(\"/content/drive/My Drive/Colab Notebooks/env_mcfly/y_val_binary.npy\",y_val_binary)#debe tener y_val_binary (1507,)\n",
    "np.save(\"/content/drive/My Drive/Colab Notebooks/env_mcfly/X_train_2.npy\",X_train_2)#(6024, 306, 375)\n",
    "np.save(\"/content/drive/My Drive/Colab Notebooks/env_mcfly/X_test.npy\",X_test)\n",
    "np.save(\"/content/drive/My Drive/Colab Notebooks/env_mcfly/y_test_binary.npy\",y_test_binary)#debe tener y_test_binary (1883,)\n",
    "np.save(\"/content/drive/My Drive/Colab Notebooks/env_mcfly/X_val.npy\",X_val)\n",
    "'''"
   ]
  },
  {
   "cell_type": "markdown",
   "metadata": {
    "colab_type": "text",
    "id": "NWoa1miIFQsa"
   },
   "source": [
    "##**Cargamos los conjuntos de Train, Test y Val**"
   ]
  },
  {
   "cell_type": "markdown",
   "metadata": {
    "colab_type": "text",
    "id": "qFfACakEHrMh"
   },
   "source": [
    "**Local**"
   ]
  },
  {
   "cell_type": "code",
   "execution_count": 0,
   "metadata": {
    "colab": {},
    "colab_type": "code",
    "id": "TdtQq5vaHztm"
   },
   "outputs": [],
   "source": [
    "y_train_binary_2= np.load(\"y_train_binary_2.npy\")\n",
    "y_test_binary= np.load(\"y_test_binary.npy\")\n",
    "y_val_binary= np.load(\"y_val_binary.npy\")\n",
    "\n",
    "\n",
    "\n",
    "X_train_2= np.load(\"X_train_2.npy\")\n",
    "X_test= np.load(\"X_test.npy\")\n",
    "X_val= np.load(\"X_val.npy\")"
   ]
  },
  {
   "cell_type": "markdown",
   "metadata": {
    "colab_type": "text",
    "id": "elZYoHd0HoP-"
   },
   "source": [
    "**Google Colaboratory**"
   ]
  },
  {
   "cell_type": "code",
   "execution_count": 0,
   "metadata": {
    "colab": {},
    "colab_type": "code",
    "id": "D29YeyqwgnAI"
   },
   "outputs": [],
   "source": [
    "\n",
    "\n",
    "y_train_binary_2= np.load(\"/content/drive/My Drive/Colab Notebooks/env_mcfly/y_train_binary_2.npy\")\n",
    "y_test_binary= np.load(\"/content/drive/My Drive/Colab Notebooks/env_mcfly/y_test_binary.npy\")\n",
    "y_val_binary= np.load(\"/content/drive/My Drive/Colab Notebooks/env_mcfly/y_val_binary.npy\")\n",
    "\n",
    "\n",
    "\n",
    "X_train_2= np.load(\"/content/drive/My Drive/Colab Notebooks/env_mcfly/X_train_2.npy\")\n",
    "X_test= np.load(\"/content/drive/My Drive/Colab Notebooks/env_mcfly/X_test.npy\")\n",
    "X_val= np.load(\"/content/drive/My Drive/Colab Notebooks/env_mcfly/X_val.npy\")\n"
   ]
  },
  {
   "cell_type": "markdown",
   "metadata": {
    "colab_type": "text",
    "id": "EdC5PDC1FdPx"
   },
   "source": [
    "###Imprimimos la apariencia de los conjuntos"
   ]
  },
  {
   "cell_type": "code",
   "execution_count": 0,
   "metadata": {
    "colab": {
     "base_uri": "https://localhost:8080/",
     "height": 125
    },
    "colab_type": "code",
    "executionInfo": {
     "elapsed": 567,
     "status": "ok",
     "timestamp": 1550567978440,
     "user": {
      "displayName": "isaamarod colabs_google",
      "photoUrl": "",
      "userId": "07524249469007373927"
     },
     "user_tz": -60
    },
    "id": "xuphN_u-gnAN",
    "outputId": "11dc56ab-5a19-4256-e7a1-7e8bac78d4b3"
   },
   "outputs": [
    {
     "name": "stdout",
     "output_type": "stream",
     "text": [
      "x train tras test y val  shape: (6024, 126, 31)\n",
      "x  test  shape: (1883, 126, 31)\n",
      "x  val  shape: (1507, 126, 31)\n",
      "y train tras test y val shape: (6024,)\n",
      "y  val shape: (1507,)\n",
      "y test shape: (1883,)\n"
     ]
    }
   ],
   "source": [
    "\n",
    "print('x train tras test y val  shape:', X_train_2.shape)\n",
    "print('x  test  shape:', X_test.shape)\n",
    "print('x  val  shape:', X_val.shape)\n",
    "\n",
    "\n",
    "\n",
    "#print('y train primitiva shape:', y_train.shape)\n",
    "print('y train tras test y val shape:', y_train_binary_2.shape)\n",
    "print('y  val shape:', y_val_binary.shape)\n",
    "#print('y train tras test shape:', y_train_binary.shape)\n",
    "print('y test shape:', y_test_binary.shape)"
   ]
  },
  {
   "cell_type": "markdown",
   "metadata": {
    "colab_type": "text",
    "id": "DB625QTtgnAS"
   },
   "source": [
    "## Mofidificaciones en los conjuntos para trabajar con McFly"
   ]
  },
  {
   "cell_type": "markdown",
   "metadata": {
    "colab_type": "text",
    "id": "DuEUHJgWgnAT"
   },
   "source": [
    "**McFly ** trabaja con los datos **X** y las etiquetas **y** como de tipo array **Numpy**. \n",
    "\n",
    "* La forma de X se expresa como una tupla de Python que contiene: \n",
    "  * El número de muestras, la longitud de la serie de tiempo y el número de canales para cada muestra. \n",
    "* La forma de y representa el número de muestras y el número de clases (etiquetas únicas). \n",
    "\n",
    "En **McFly** **y** tiene el formato **one-hot-encoding**, lo que supone que en la creación de la red neuronal utiliza un loss tipo **categorical_lossentropy**, por lo que y tuvo un cambio de formato de :\n",
    "\n",
    "**(numero de muestras, )** ---> **(numero de muestras, número de clases)**\n",
    "\n",
    "Para ello utilizamos las liberías **Sklearn.preprocessing** y **Keras.utils**\n"
   ]
  },
  {
   "cell_type": "markdown",
   "metadata": {
    "colab_type": "text",
    "id": "VxEBi6OPJ7KM"
   },
   "source": [
    "**ONE-HOT-ENCODING**"
   ]
  },
  {
   "cell_type": "code",
   "execution_count": 4,
   "metadata": {
    "colab": {
     "base_uri": "https://localhost:8080/",
     "height": 68
    },
    "colab_type": "code",
    "executionInfo": {
     "elapsed": 802,
     "status": "ok",
     "timestamp": 1550663564766,
     "user": {
      "displayName": "isaamarod colabs_google",
      "photoUrl": "",
      "userId": "07524249469007373927"
     },
     "user_tz": -60
    },
    "id": "uWqXCM8DgnAU",
    "outputId": "ced67307-aff0-4091-eba6-0e0f29cb0658"
   },
   "outputs": [
    {
     "name": "stdout",
     "output_type": "stream",
     "text": [
      "(6024, 2)\n",
      "(1883, 2)\n",
      "(1507, 2)\n"
     ]
    }
   ],
   "source": [
    "'''\n",
    "from sklearn.preprocessing import LabelEncoder\n",
    "from keras.utils import np_utils\n",
    "'''\n",
    "encoder = LabelEncoder()\n",
    "encoder.fit(y_train_binary_2)\n",
    "encoded_Y = encoder.transform(y_train_binary_2)\n",
    "# convert integers to dummy variables (i.e. one hot encoded)\n",
    "y_train_binary_2 = np_utils.to_categorical(encoded_Y)\n",
    "\n",
    "encoderT = LabelEncoder()\n",
    "encoderT.fit(y_test_binary)\n",
    "encoded_Y_test = encoderT.transform(y_test_binary)\n",
    "# convert integers to dummy variables (i.e. one hot encoded)\n",
    "y_test_binary = np_utils.to_categorical(encoded_Y_test)\n",
    "\n",
    "\n",
    "encoderV = LabelEncoder()\n",
    "encoderV.fit(y_val_binary)\n",
    "encoded_Y_val = encoderV.transform(y_val_binary)\n",
    "# convert integers to dummy variables (i.e. one hot encoded)\n",
    "y_val_binary = np_utils.to_categorical(encoded_Y_val)\n",
    "\n",
    "\n",
    "\n",
    "print(y_train_binary_2.shape)\n",
    "print(y_test_binary.shape)\n",
    "print(y_val_binary.shape)\n"
   ]
  },
  {
   "cell_type": "code",
   "execution_count": 0,
   "metadata": {
    "colab": {
     "base_uri": "https://localhost:8080/",
     "height": 125
    },
    "colab_type": "code",
    "executionInfo": {
     "elapsed": 543,
     "status": "ok",
     "timestamp": 1550567988106,
     "user": {
      "displayName": "isaamarod colabs_google",
      "photoUrl": "",
      "userId": "07524249469007373927"
     },
     "user_tz": -60
    },
    "id": "-sLLEtPFgnAY",
    "outputId": "eb002ac6-e42c-4f63-e842-484c4f50b4e7"
   },
   "outputs": [
    {
     "name": "stdout",
     "output_type": "stream",
     "text": [
      "x train shape: (6024, 126, 31)\n",
      "x val shape: (1507, 126, 31)\n",
      "x test shape: (1883, 126, 31)\n",
      "y val shape : (1507, 2)\n",
      "y train shape: (6024, 2)\n",
      "y test shape: (1883, 2)\n"
     ]
    }
   ],
   "source": [
    "print('x train shape:', X_train_2.shape)\n",
    "print('x val shape:', X_val.shape)\n",
    "print('x test shape:', X_test.shape)\n",
    "print('y val shape :', y_val_binary.shape)\n",
    "print('y train shape:', y_train_binary_2.shape)\n",
    "print('y test shape:', y_test_binary.shape)"
   ]
  },
  {
   "cell_type": "markdown",
   "metadata": {
    "colab_type": "text",
    "id": "6_we8e2wgnAd"
   },
   "source": [
    "The data is split between train test and validation."
   ]
  },
  {
   "cell_type": "code",
   "execution_count": 0,
   "metadata": {
    "colab": {
     "base_uri": "https://localhost:8080/",
     "height": 107
    },
    "colab_type": "code",
    "executionInfo": {
     "elapsed": 564,
     "status": "ok",
     "timestamp": 1550567991147,
     "user": {
      "displayName": "isaamarod colabs_google",
      "photoUrl": "",
      "userId": "07524249469007373927"
     },
     "user_tz": -60
    },
    "id": "NIL-I-axgnAe",
    "outputId": "b2e7a66e-8d43-44ee-b24b-182bc2f292e5"
   },
   "outputs": [
    {
     "name": "stdout",
     "output_type": "stream",
     "text": [
      "train set size: 9414\n",
      "validation set size: 1507\n",
      "train label set size: 2\n",
      "test label set size: 2\n",
      "validation label set size: 2\n"
     ]
    }
   ],
   "source": [
    "print('train set size:', X_train.shape[0])\n",
    "print('validation set size:', X_val.shape[0])\n",
    "#print('test set size:', X_test.shape[0])\n",
    "print('train label set size:', y_train_binary_2.shape[1])\n",
    "print('test label set size:', y_test_binary.shape[1])\n",
    "print('validation label set size:', y_val_binary.shape[1])\n",
    "\n"
   ]
  },
  {
   "cell_type": "markdown",
   "metadata": {
    "colab_type": "text",
    "id": "lqSqlcqeKbpN"
   },
   "source": [
    "#DEEP LEARNING \n",
    "![texto alternativo](https://jardindeideas.net/wp-content/uploads/2016/04/simulacion-estructura-red-neuronal.jpg)"
   ]
  },
  {
   "cell_type": "markdown",
   "metadata": {
    "colab_type": "text",
    "id": "MQs1QqoZgnAo"
   },
   "source": [
    "## GENERACIÓN DE MODELOS DE ENTRENAMIENTO CON MCFLY"
   ]
  },
  {
   "cell_type": "markdown",
   "metadata": {
    "colab_type": "text",
    "id": "QIuZo9LPgnAp"
   },
   "source": [
    "McFly mediante la funcion generate_models genera modelos random con parámetros variables entre sí. En este caso, hemos elegido que genere solamente dos modelos debido a que tardan mucho tiempo. "
   ]
  },
  {
   "cell_type": "code",
   "execution_count": 0,
   "metadata": {
    "colab": {
     "base_uri": "https://localhost:8080/",
     "height": 35
    },
    "colab_type": "code",
    "executionInfo": {
     "elapsed": 2216,
     "status": "ok",
     "timestamp": 1550568015816,
     "user": {
      "displayName": "isaamarod colabs_google",
      "photoUrl": "",
      "userId": "07524249469007373927"
     },
     "user_tz": -60
    },
    "id": "jeFwxw09gnAq",
    "outputId": "d7ceefd0-861a-4bfc-8af7-4556298e511d"
   },
   "outputs": [
    {
     "data": {
      "text/plain": [
       "<function mcfly.modelgen.generate_models>"
      ]
     },
     "execution_count": 13,
     "metadata": {
      "tags": []
     },
     "output_type": "execute_result"
    }
   ],
   "source": [
    "num_classes = y_train_binary_2.shape[1]\n",
    "\n",
    "models = modelgen.generate_models(X_train_2.shape,\n",
    "                                  number_of_classes=num_classes,\n",
    "                                  number_of_models = 2)\n",
    "\n",
    "modelgen.generate_models"
   ]
  },
  {
   "cell_type": "code",
   "execution_count": 0,
   "metadata": {
    "colab": {
     "base_uri": "https://localhost:8080/",
     "height": 34
    },
    "colab_type": "code",
    "executionInfo": {
     "elapsed": 559,
     "status": "ok",
     "timestamp": 1550497067908,
     "user": {
      "displayName": "isaamarod colabs_google",
      "photoUrl": "",
      "userId": "07524249469007373927"
     },
     "user_tz": -60
    },
    "id": "FoGJTFjWgnA-",
    "outputId": "cc70f898-d4a6-4c56-df62-fed8fcd97aa2"
   },
   "outputs": [
    {
     "name": "stdout",
     "output_type": "stream",
     "text": [
      "2\n"
     ]
    }
   ],
   "source": [
    "print(num_classes)"
   ]
  },
  {
   "cell_type": "markdown",
   "metadata": {
    "colab_type": "text",
    "id": "s9-EWmMSgnBC"
   },
   "source": [
    "**¿QUÉ MODELOS SE HAN GENERADO?**\n",
    "* CNN\n",
    "* DEEPCONVLSTM"
   ]
  },
  {
   "cell_type": "code",
   "execution_count": 0,
   "metadata": {
    "colab": {
     "base_uri": "https://localhost:8080/",
     "height": 1961
    },
    "colab_type": "code",
    "executionInfo": {
     "elapsed": 560,
     "status": "ok",
     "timestamp": 1550568021649,
     "user": {
      "displayName": "isaamarod colabs_google",
      "photoUrl": "",
      "userId": "07524249469007373927"
     },
     "user_tz": -60
    },
    "id": "G9cqN51agnBD",
    "outputId": "6b64fe7f-254a-4459-a761-bc155c861228"
   },
   "outputs": [
    {
     "name": "stdout",
     "output_type": "stream",
     "text": [
      "-------------------------------------------------------------------------------------------------------\n",
      "Model 0\n",
      " \n",
      "Hyperparameters:\n",
      "{'learning_rate': 0.08360289270402858, 'regularization_rate': 0.0022439468517196116, 'filters': array([85, 17, 44]), 'fc_hidden_nodes': 443}\n",
      " \n",
      "Model description:\n",
      "_________________________________________________________________\n",
      "Layer (type)                 Output Shape              Param #   \n",
      "=================================================================\n",
      "batch_normalization_11 (Batc (None, 126, 31)           124       \n",
      "_________________________________________________________________\n",
      "conv1d_4 (Conv1D)            (None, 126, 85)           7990      \n",
      "_________________________________________________________________\n",
      "batch_normalization_12 (Batc (None, 126, 85)           340       \n",
      "_________________________________________________________________\n",
      "activation_11 (Activation)   (None, 126, 85)           0         \n",
      "_________________________________________________________________\n",
      "conv1d_5 (Conv1D)            (None, 126, 17)           4352      \n",
      "_________________________________________________________________\n",
      "batch_normalization_13 (Batc (None, 126, 17)           68        \n",
      "_________________________________________________________________\n",
      "activation_12 (Activation)   (None, 126, 17)           0         \n",
      "_________________________________________________________________\n",
      "conv1d_6 (Conv1D)            (None, 126, 44)           2288      \n",
      "_________________________________________________________________\n",
      "batch_normalization_14 (Batc (None, 126, 44)           176       \n",
      "_________________________________________________________________\n",
      "activation_13 (Activation)   (None, 126, 44)           0         \n",
      "_________________________________________________________________\n",
      "flatten_2 (Flatten)          (None, 5544)              0         \n",
      "_________________________________________________________________\n",
      "dense_4 (Dense)              (None, 443)               2456435   \n",
      "_________________________________________________________________\n",
      "activation_14 (Activation)   (None, 443)               0         \n",
      "_________________________________________________________________\n",
      "dense_5 (Dense)              (None, 2)                 888       \n",
      "_________________________________________________________________\n",
      "batch_normalization_15 (Batc (None, 2)                 8         \n",
      "_________________________________________________________________\n",
      "activation_15 (Activation)   (None, 2)                 0         \n",
      "=================================================================\n",
      "Total params: 2,472,669\n",
      "Trainable params: 2,472,311\n",
      "Non-trainable params: 358\n",
      "_________________________________________________________________\n",
      " \n",
      "Model type:\n",
      "CNN\n",
      " \n",
      "-------------------------------------------------------------------------------------------------------\n",
      "Model 1\n",
      " \n",
      "Hyperparameters:\n",
      "{'learning_rate': 0.000893145093504032, 'regularization_rate': 0.00319386451934688, 'filters': [48, 43, 68, 77], 'lstm_dims': [78]}\n",
      " \n",
      "Model description:\n",
      "_________________________________________________________________\n",
      "Layer (type)                 Output Shape              Param #   \n",
      "=================================================================\n",
      "batch_normalization_16 (Batc (None, 126, 31)           124       \n",
      "_________________________________________________________________\n",
      "reshape_3 (Reshape)          (None, 126, 31, 1)        0         \n",
      "_________________________________________________________________\n",
      "conv2d_5 (Conv2D)            (None, 126, 31, 48)       192       \n",
      "_________________________________________________________________\n",
      "batch_normalization_17 (Batc (None, 126, 31, 48)       192       \n",
      "_________________________________________________________________\n",
      "activation_16 (Activation)   (None, 126, 31, 48)       0         \n",
      "_________________________________________________________________\n",
      "conv2d_6 (Conv2D)            (None, 126, 31, 43)       6235      \n",
      "_________________________________________________________________\n",
      "batch_normalization_18 (Batc (None, 126, 31, 43)       172       \n",
      "_________________________________________________________________\n",
      "activation_17 (Activation)   (None, 126, 31, 43)       0         \n",
      "_________________________________________________________________\n",
      "conv2d_7 (Conv2D)            (None, 126, 31, 68)       8840      \n",
      "_________________________________________________________________\n",
      "batch_normalization_19 (Batc (None, 126, 31, 68)       272       \n",
      "_________________________________________________________________\n",
      "activation_18 (Activation)   (None, 126, 31, 68)       0         \n",
      "_________________________________________________________________\n",
      "conv2d_8 (Conv2D)            (None, 126, 31, 77)       15785     \n",
      "_________________________________________________________________\n",
      "batch_normalization_20 (Batc (None, 126, 31, 77)       308       \n",
      "_________________________________________________________________\n",
      "activation_19 (Activation)   (None, 126, 31, 77)       0         \n",
      "_________________________________________________________________\n",
      "reshape_4 (Reshape)          (None, 126, 2387)         0         \n",
      "_________________________________________________________________\n",
      "lstm_2 (LSTM)                (None, 126, 78)           769392    \n",
      "_________________________________________________________________\n",
      "dropout_2 (Dropout)          (None, 126, 78)           0         \n",
      "_________________________________________________________________\n",
      "time_distributed_2 (TimeDist (None, 126, 2)            158       \n",
      "_________________________________________________________________\n",
      "activation_20 (Activation)   (None, 126, 2)            0         \n",
      "_________________________________________________________________\n",
      "lambda_2 (Lambda)            (None, 2)                 0         \n",
      "=================================================================\n",
      "Total params: 801,670\n",
      "Trainable params: 801,136\n",
      "Non-trainable params: 534\n",
      "_________________________________________________________________\n",
      " \n",
      "Model type:\n",
      "DeepConvLSTM\n",
      " \n"
     ]
    }
   ],
   "source": [
    "models_to_print = range(len(models))\n",
    "for i, item in enumerate(models):\n",
    "    if i in models_to_print:\n",
    "        model, params, model_types = item\n",
    "        print(\"-------------------------------------------------------------------------------------------------------\")\n",
    "        print(\"Model \" + str(i))\n",
    "        print(\" \")\n",
    "        print(\"Hyperparameters:\")\n",
    "        print(params)\n",
    "        print(\" \")\n",
    "        print(\"Model description:\")\n",
    "        model.summary()\n",
    "        print(\" \")\n",
    "        print(\"Model type:\")\n",
    "        print(model_types)\n",
    "        print(\" \")"
   ]
  },
  {
   "cell_type": "markdown",
   "metadata": {
    "colab_type": "text",
    "id": "Ad0qn3VrgnBL"
   },
   "source": [
    "\n",
    "\n",
    "\n",
    "## COMPARACIÓN DE MODELOS\n"
   ]
  },
  {
   "cell_type": "markdown",
   "metadata": {
    "colab_type": "text",
    "id": "9o2Zq8frtuom"
   },
   "source": [
    "**Local**"
   ]
  },
  {
   "cell_type": "code",
   "execution_count": 0,
   "metadata": {
    "colab": {},
    "colab_type": "code",
    "id": "lg-Iaf6Ytwm9"
   },
   "outputs": [],
   "source": [
    "resultpath = os.path.join(directory_to_extract_to, '/home/isa/Escritorio/Universidad/master/ML/PROYECTO/env_mcfly/mcfly-tutorial/ML/models')\n",
    "if not os.path.exists(resultpath):\n",
    "        os.makedirs(resultpath)"
   ]
  },
  {
   "cell_type": "markdown",
   "metadata": {
    "colab_type": "text",
    "id": "Wx3KqiNbtsaW"
   },
   "source": [
    "**Google Colaboratory**"
   ]
  },
  {
   "cell_type": "code",
   "execution_count": 0,
   "metadata": {
    "colab": {},
    "colab_type": "code",
    "id": "TOpipzUYgnBM"
   },
   "outputs": [],
   "source": [
    "# Define directory where the results, e.g. json file, will be stored\n",
    "\n",
    "resultpath = \"/content/drive/My Drive/Colab Notebooks/env_mcfly/\";\n",
    "if not os.path.exists(\"/content/drive/My Drive/Colab Notebooks/env_mcfly/\"):\n",
    "        os.makedirs(directory_to_extract_to)"
   ]
  },
  {
   "cell_type": "markdown",
   "metadata": {
    "colab_type": "text",
    "id": "dR8sn5IJgnBO"
   },
   "source": [
    "## Entrenamiento de todo el conjunto de Train y Val para elegir qué modelo es mejor para nuestro caso"
   ]
  },
  {
   "cell_type": "code",
   "execution_count": 0,
   "metadata": {
    "colab": {
     "base_uri": "https://localhost:8080/",
     "height": 611
    },
    "colab_type": "code",
    "executionInfo": {
     "elapsed": 6742684,
     "status": "ok",
     "timestamp": 1550579766885,
     "user": {
      "displayName": "isaamarod colabs_google",
      "photoUrl": "",
      "userId": "07524249469007373927"
     },
     "user_tz": -60
    },
    "id": "BfRJD1OCgnBP",
    "outputId": "3ce1c8f0-f2a9-4348-def3-e0497181b3d5"
   },
   "outputs": [
    {
     "name": "stdout",
     "output_type": "stream",
     "text": [
      "Training model 0 CNN\n",
      "Train on 6024 samples, validate on 1507 samples\n",
      "Epoch 1/7\n",
      "6024/6024 [==============================] - 46s 8ms/step - loss: 1.0556 - acc: 0.5078 - val_loss: 1.6583 - val_acc: 0.4930\n",
      "Epoch 2/7\n",
      "6024/6024 [==============================] - 46s 8ms/step - loss: 0.9816 - acc: 0.5090 - val_loss: 2.8506 - val_acc: 0.4983\n",
      "Epoch 3/7\n",
      "6024/6024 [==============================] - 46s 8ms/step - loss: 1.0451 - acc: 0.4930 - val_loss: 0.8140 - val_acc: 0.5123\n",
      "Epoch 4/7\n",
      "6024/6024 [==============================] - 46s 8ms/step - loss: 0.9202 - acc: 0.5098 - val_loss: 0.8477 - val_acc: 0.4983\n",
      "Epoch 5/7\n",
      "6024/6024 [==============================] - 46s 8ms/step - loss: 0.9656 - acc: 0.5312 - val_loss: 3.4344 - val_acc: 0.4983\n",
      "Epoch 6/7\n",
      "6024/6024 [==============================] - 46s 8ms/step - loss: 1.0090 - acc: 0.5118 - val_loss: 1.1810 - val_acc: 0.4983\n",
      "Epoch 7/7\n",
      "6024/6024 [==============================] - 46s 8ms/step - loss: 0.9967 - acc: 0.5125 - val_loss: 1.0237 - val_acc: 0.5236\n",
      "Training model 1 DeepConvLSTM\n",
      "Train on 6024 samples, validate on 1507 samples\n",
      "Epoch 1/7\n",
      "6024/6024 [==============================] - 948s 157ms/step - loss: 0.6876 - acc: 0.5886 - val_loss: 0.6858 - val_acc: 0.5879\n",
      "Epoch 2/7\n",
      "6024/6024 [==============================] - 985s 163ms/step - loss: 0.6862 - acc: 0.5862 - val_loss: 0.6977 - val_acc: 0.5700\n",
      "Epoch 3/7\n",
      "6024/6024 [==============================] - 949s 158ms/step - loss: 0.6873 - acc: 0.5830 - val_loss: 0.6920 - val_acc: 0.5713\n",
      "Epoch 4/7\n",
      "6024/6024 [==============================] - 898s 149ms/step - loss: 0.6872 - acc: 0.5842 - val_loss: 0.6921 - val_acc: 0.5733\n",
      "Epoch 5/7\n",
      "6024/6024 [==============================] - 865s 144ms/step - loss: 0.6879 - acc: 0.5863 - val_loss: 0.6858 - val_acc: 0.5846\n",
      "Epoch 6/7\n",
      "6024/6024 [==============================] - 902s 150ms/step - loss: 0.6838 - acc: 0.5827 - val_loss: 0.6878 - val_acc: 0.5906\n",
      "Epoch 7/7\n",
      "6024/6024 [==============================] - 874s 145ms/step - loss: 0.6820 - acc: 0.5920 - val_loss: 0.6907 - val_acc: 0.5926\n",
      "Details of the training process were stored in  /content/drive/My Drive/Colab Notebooks/env_mcfly/modelcomparison.json\n"
     ]
    }
   ],
   "source": [
    "outputfile = os.path.join(resultpath, 'modelcomparison.json')\n",
    "\n",
    "histories, val_accuracies, val_losses = find_architecture.train_models_on_samples(X_train_2,y_train_binary_2,\n",
    "                                                                           X_val, y_val_binary,\n",
    "                                                                           models,nr_epochs=7,\n",
    "                                                                           subset_size=6024,\n",
    "                                                                           verbose=True,batch_size=10,\n",
    "                                                                           outputfile=outputfile)\n",
    "print('Details of the training process were stored in ',outputfile)"
   ]
  },
  {
   "cell_type": "markdown",
   "metadata": {
    "colab_type": "text",
    "id": "GNI7uoUTNt4b"
   },
   "source": [
    "## Guardamos las imágenes de los modelos"
   ]
  },
  {
   "cell_type": "code",
   "execution_count": 0,
   "metadata": {
    "colab": {},
    "colab_type": "code",
    "id": "GTnlzWhcwzQs"
   },
   "outputs": [],
   "source": [
    "from keras.utils.vis_utils import plot_model\n",
    "outputfile_plots = os.path.join(\"/content/drive/My Drive/Colab Notebooks/env_mcfly/\", model_types+'.png')\n",
    "\n",
    "models_to_print = range(len(models))\n",
    "for i, item in enumerate(models):\n",
    "    if i in models_to_print:\n",
    "        model, params, model_types = item        \n",
    "        plot_model(model, to_file=outputfile_plots, show_shapes=True, show_layer_names=True)"
   ]
  },
  {
   "cell_type": "markdown",
   "metadata": {
    "colab_type": "text",
    "id": "nQxNpZwhgnBT"
   },
   "source": [
    "## Visualization con McFly Pasos\n",
    "\n",
    "We can inspect the learning process in the visualization tool on http://nlesc.github.io/mcfly/.\n",
    "\n",
    "Alternatively, you can run the visualization from a local web service:\n",
    "- Clone the mcfly github repository (if you haven't done so already for visualization)\n",
    "\n",
    " `git clone https://github.com/NLeSC/mcfly`\n",
    "\n",
    "\n",
    "- navigate to the html folder:\n",
    "\n",
    " `cd mcfly/html`\n",
    "\n",
    "\n",
    "- Start a web server. This can be done in various ways, for example:\n",
    " - for python 3 you can use: `python3 -m http.server`\n",
    " - for python 2 you can use: `python2 -m SimpleHTTPServer`\n",
    "\n",
    "Notice the port number the web server is serving on. This is usually 8000.\n",
    "With a web browser, navigate to [localhost:8000](localhost:8000). \n",
    "\n",
    "You need to upload the json file that contains the details of the training process. The following line of code shows the path to this file:"
   ]
  },
  {
   "cell_type": "code",
   "execution_count": 3,
   "metadata": {},
   "outputs": [
    {
     "data": {
      "image/png": "[encoded data removed]",
      "text/plain": [
       "<IPython.core.display.Image object>"
      ]
     },
     "execution_count": 3,
     "metadata": {},
     "output_type": "execute_result"
    }
   ],
   "source": [
    "from IPython.display import display, Image, SVG, Math, YouTubeVideo\n",
    "Image(filename='/home/isa/Imágenes/Selección_058.png')"
   ]
  },
  {
   "cell_type": "code",
   "execution_count": 0,
   "metadata": {
    "colab": {},
    "colab_type": "code",
    "id": "NMmMSYMmgnBU"
   },
   "outputs": [],
   "source": [
    "outputfile"
   ]
  },
  {
   "cell_type": "markdown",
   "metadata": {
    "colab_type": "text",
    "id": "ex-axng5gnBa"
   },
   "source": [
    "## Resultados de los entrenamientos con ambos modelos\n"
   ]
  },
  {
   "cell_type": "code",
   "execution_count": 0,
   "metadata": {
    "colab": {
     "base_uri": "https://localhost:8080/",
     "height": 111
    },
    "colab_type": "code",
    "executionInfo": {
     "elapsed": 1122,
     "status": "ok",
     "timestamp": 1550581396528,
     "user": {
      "displayName": "isaamarod colabs_google",
      "photoUrl": "",
      "userId": "07524249469007373927"
     },
     "user_tz": -60
    },
    "id": "woVCBSzfgnBb",
    "outputId": "3e64a3eb-c736-4534-b3bd-d3e25d84e612"
   },
   "outputs": [
    {
     "data": {
      "text/html": [
       "<div>\n",
       "<style scoped>\n",
       "    .dataframe tbody tr th:only-of-type {\n",
       "        vertical-align: middle;\n",
       "    }\n",
       "\n",
       "    .dataframe tbody tr th {\n",
       "        vertical-align: top;\n",
       "    }\n",
       "\n",
       "    .dataframe thead th {\n",
       "        text-align: right;\n",
       "    }\n",
       "</style>\n",
       "<table border=\"1\" class=\"dataframe\">\n",
       "  <thead>\n",
       "    <tr style=\"text-align: right;\">\n",
       "      <th></th>\n",
       "      <th>model</th>\n",
       "      <th>train_acc</th>\n",
       "      <th>train_loss</th>\n",
       "      <th>val_acc</th>\n",
       "      <th>val_loss</th>\n",
       "    </tr>\n",
       "  </thead>\n",
       "  <tbody>\n",
       "    <tr>\n",
       "      <th>0</th>\n",
       "      <td>{'learning_rate': 0.08360289270402858, 'regula...</td>\n",
       "      <td>0.512450</td>\n",
       "      <td>0.996675</td>\n",
       "      <td>0.523557</td>\n",
       "      <td>1.023729</td>\n",
       "    </tr>\n",
       "    <tr>\n",
       "      <th>1</th>\n",
       "      <td>{'learning_rate': 0.000893145093504032, 'regul...</td>\n",
       "      <td>0.591965</td>\n",
       "      <td>0.682005</td>\n",
       "      <td>0.592568</td>\n",
       "      <td>0.690743</td>\n",
       "    </tr>\n",
       "  </tbody>\n",
       "</table>\n",
       "</div>"
      ],
      "text/plain": [
       "                                               model  train_acc  train_loss  \\\n",
       "0  {'learning_rate': 0.08360289270402858, 'regula...   0.512450    0.996675   \n",
       "1  {'learning_rate': 0.000893145093504032, 'regul...   0.591965    0.682005   \n",
       "\n",
       "    val_acc  val_loss  \n",
       "0  0.523557  1.023729  \n",
       "1  0.592568  0.690743  "
      ]
     },
     "execution_count": 38,
     "metadata": {
      "tags": []
     },
     "output_type": "execute_result"
    }
   ],
   "source": [
    "modelcomparisons = pd.DataFrame({'model':[str(params) for model, params, model_types in models],\n",
    "                       'train_acc': [history.history['acc'][-1] for history in histories],\n",
    "                       'train_loss': [history.history['loss'][-1] for history in histories],\n",
    "                       'val_acc': [history.history['val_acc'][-1] for history in histories],\n",
    "                       'val_loss': [history.history['val_loss'][-1] for history in histories]\n",
    "                       })\n",
    "modelcomparisons.to_csv(os.path.join(resultpath, 'modelcomparisons.csv'))\n",
    "\n",
    "modelcomparisons"
   ]
  },
  {
   "cell_type": "markdown",
   "metadata": {
    "colab_type": "text",
    "collapsed": true,
    "id": "7aDlGA7VgnBf"
   },
   "source": [
    "## Elección del mejor modelo\n",
    "Esta elección es en función del accuracy"
   ]
  },
  {
   "cell_type": "code",
   "execution_count": 0,
   "metadata": {
    "colab": {
     "base_uri": "https://localhost:8080/",
     "height": 54
    },
    "colab_type": "code",
    "executionInfo": {
     "elapsed": 687,
     "status": "ok",
     "timestamp": 1550593869024,
     "user": {
      "displayName": "isaamarod colabs_google",
      "photoUrl": "",
      "userId": "07524249469007373927"
     },
     "user_tz": -60
    },
    "id": "1idHqBEqgnBf",
    "outputId": "eb467b16-cd90-4606-d024-f1df5cb22585"
   },
   "outputs": [
    {
     "data": {
      "text/plain": [
       "\"\\nbest_model_index = np.argmax(val_accuracies)\\nbest_model, best_params, best_model_types = models[best_model_index]\\nprint('Model type and parameters of the best model:')\\nprint(best_model_types)\\nprint(best_params)\\n\\n\""
      ]
     },
     "execution_count": 11,
     "metadata": {
      "tags": []
     },
     "output_type": "execute_result"
    }
   ],
   "source": [
    "\n",
    "best_model_index = np.argmax(val_accuracies)\n",
    "best_model, best_params, best_model_types = models[best_model_index]\n",
    "print('Model type and parameters of the best model:')\n",
    "print(best_model_types)\n",
    "print(best_params)\n",
    "\n"
   ]
  },
  {
   "cell_type": "markdown",
   "metadata": {
    "colab_type": "text",
    "id": "zCbKUy2UgnBi"
   },
   "source": [
    "## ¿Afectará al resultado el número de muestras y las épocas?\n"
   ]
  },
  {
   "cell_type": "markdown",
   "metadata": {
    "colab_type": "text",
    "id": "SvyVXkZOgnBj"
   },
   "source": [
    "Podemos ver que disminuye el accuracy al disminuir el número de épocas y de batch"
   ]
  },
  {
   "cell_type": "code",
   "execution_count": 0,
   "metadata": {
    "colab": {
     "base_uri": "https://localhost:8080/",
     "height": 71
    },
    "colab_type": "code",
    "executionInfo": {
     "elapsed": 112359,
     "status": "ok",
     "timestamp": 1550581599041,
     "user": {
      "displayName": "isaamarod colabs_google",
      "photoUrl": "",
      "userId": "07524249469007373927"
     },
     "user_tz": -60
    },
    "id": "TV99xUEbgnBk",
    "outputId": "c5862547-5c98-4478-d562-495ddda0cd8e"
   },
   "outputs": [
    {
     "name": "stdout",
     "output_type": "stream",
     "text": [
      "Train on 500 samples, validate on 1507 samples\n",
      "Epoch 1/1\n",
      "500/500 [==============================] - 112s 224ms/step - loss: 0.6672 - acc: 0.6060 - val_loss: 0.6898 - val_acc: 0.5899\n"
     ]
    }
   ],
   "source": [
    "#We make a copy of the model, to start training from fresh\n",
    "nr_epochs = 1\n",
    "datasize = 500 # Change in `X_train.shape[0]` if training complete data set\n",
    "history = best_model.fit(X_train_2[:datasize,:,:], y_train_binary_2[:datasize,:],\n",
    "              epochs=nr_epochs, validation_data=(X_val, y_val_binary))"
   ]
  },
  {
   "cell_type": "markdown",
   "metadata": {
    "colab_type": "text",
    "id": "GF3Dhz8EgnBp"
   },
   "source": [
    "### Guardamos el mejor modelo"
   ]
  },
  {
   "cell_type": "markdown",
   "metadata": {
    "colab_type": "text",
    "id": "fMvO00gqgnBq"
   },
   "source": []
  },
  {
   "cell_type": "code",
   "execution_count": 0,
   "metadata": {
    "colab": {
     "base_uri": "https://localhost:8080/",
     "height": 34
    },
    "colab_type": "code",
    "executionInfo": {
     "elapsed": 695,
     "status": "ok",
     "timestamp": 1550593989975,
     "user": {
      "displayName": "isaamarod colabs_google",
      "photoUrl": "",
      "userId": "07524249469007373927"
     },
     "user_tz": -60
    },
    "id": "LW-PcQUJgnBt",
    "outputId": "15823089-1fb1-4773-c2fb-75068128f1d5"
   },
   "outputs": [
    {
     "data": {
      "text/plain": [
       "'\\nbest_model.save(model_path)\\n'"
      ]
     },
     "execution_count": 14,
     "metadata": {
      "tags": []
     },
     "output_type": "execute_result"
    }
   ],
   "source": [
    "\n",
    "modelname = 'my_bestmodel.h5'\n",
    "model_path = os.path.join(resultpath,modelname)\n",
    "best_model.save(model_path)\n"
   ]
  },
  {
   "cell_type": "code",
   "execution_count": 0,
   "metadata": {
    "colab": {},
    "colab_type": "code",
    "id": "g6wzyJZ_gnBv"
   },
   "outputs": [],
   "source": [
    "model_reloaded = load_model(model_path)"
   ]
  },
  {
   "cell_type": "markdown",
   "metadata": {
    "colab_type": "text",
    "id": "SnVP21D2gnBx"
   },
   "source": [
    "**Comprobamos que al volver a cargar el mejor modelo no han cambiado los pesos**"
   ]
  },
  {
   "cell_type": "code",
   "execution_count": 0,
   "metadata": {
    "colab": {
     "base_uri": "https://localhost:8080/",
     "height": 35
    },
    "colab_type": "code",
    "executionInfo": {
     "elapsed": 728,
     "status": "ok",
     "timestamp": 1550581771274,
     "user": {
      "displayName": "isaamarod colabs_google",
      "photoUrl": "",
      "userId": "07524249469007373927"
     },
     "user_tz": -60
    },
    "id": "vunL_AQugnBx",
    "outputId": "67b4dfaa-9f89-4322-fbc8-351148e4f048"
   },
   "outputs": [
    {
     "data": {
      "text/plain": [
       "True"
      ]
     },
     "execution_count": 45,
     "metadata": {
      "tags": []
     },
     "output_type": "execute_result"
    }
   ],
   "source": [
    "np.all([np.all(x==y) for x,y in zip(best_model.get_weights(), model_reloaded.get_weights())])"
   ]
  },
  {
   "cell_type": "markdown",
   "metadata": {
    "colab_type": "text",
    "id": "qh0lkZAYgnB0"
   },
   "source": [
    "## Aplicamos predicciones con el conjunto de validación y el mejor modelo"
   ]
  },
  {
   "cell_type": "markdown",
   "metadata": {
    "colab_type": "text",
    "id": "iG3Q9UZYUJtW"
   },
   "source": [
    "### Local"
   ]
  },
  {
   "cell_type": "code",
   "execution_count": 0,
   "metadata": {
    "colab": {},
    "colab_type": "code",
    "id": "SmEDYEWmURBb"
   },
   "outputs": [],
   "source": [
    "\n",
    "model = load_model('my_bestmodel.h5')"
   ]
  },
  {
   "cell_type": "markdown",
   "metadata": {
    "colab_type": "text",
    "id": "dj2QG2NjUGOP"
   },
   "source": [
    "### Google Colaboratory"
   ]
  },
  {
   "cell_type": "code",
   "execution_count": 0,
   "metadata": {
    "colab": {},
    "colab_type": "code",
    "id": "a1-7aqMMgnB1"
   },
   "outputs": [],
   "source": [
    "model = load_model('/content/drive/My Drive/Colab Notebooks/env_mcfly/my_bestmodel.h5')"
   ]
  },
  {
   "cell_type": "markdown",
   "metadata": {
    "colab_type": "text",
    "id": "qLVxf_URxo4E"
   },
   "source": [
    "## **PREDICT** sobre el conjunto de validación"
   ]
  },
  {
   "cell_type": "markdown",
   "metadata": {
    "colab_type": "text",
    "id": "J64qgw8Mx2Vj"
   },
   "source": [
    "Predict consiste en que dado un conjunto de datos devuelve las salidas de las predicciones de cada muestra"
   ]
  },
  {
   "cell_type": "code",
   "execution_count": 0,
   "metadata": {
    "colab": {},
    "colab_type": "code",
    "id": "29YgsAZVgnB4"
   },
   "outputs": [],
   "source": [
    "## Inspect model predictions on validation data\n",
    "datasize = X_val.shape[0]\n",
    "probs = model.predict_proba(X_val[:datasize,:,:],batch_size=1)"
   ]
  },
  {
   "cell_type": "code",
   "execution_count": 0,
   "metadata": {
    "colab": {
     "base_uri": "https://localhost:8080/",
     "height": 111
    },
    "colab_type": "code",
    "executionInfo": {
     "elapsed": 523,
     "status": "ok",
     "timestamp": 1550582362504,
     "user": {
      "displayName": "isaamarod colabs_google",
      "photoUrl": "",
      "userId": "07524249469007373927"
     },
     "user_tz": -60
    },
    "id": "viaiXWQNgnB9",
    "outputId": "bb0cc377-0d5a-4ef9-9b1d-a77e116575cb"
   },
   "outputs": [
    {
     "data": {
      "text/html": [
       "<div>\n",
       "<style scoped>\n",
       "    .dataframe tbody tr th:only-of-type {\n",
       "        vertical-align: middle;\n",
       "    }\n",
       "\n",
       "    .dataframe tbody tr th {\n",
       "        vertical-align: top;\n",
       "    }\n",
       "\n",
       "    .dataframe thead th {\n",
       "        text-align: right;\n",
       "    }\n",
       "</style>\n",
       "<table border=\"1\" class=\"dataframe\">\n",
       "  <thead>\n",
       "    <tr style=\"text-align: right;\">\n",
       "      <th></th>\n",
       "      <th>0.0</th>\n",
       "      <th>1.0</th>\n",
       "    </tr>\n",
       "  </thead>\n",
       "  <tbody>\n",
       "    <tr>\n",
       "      <th>0.0</th>\n",
       "      <td>485</td>\n",
       "      <td>266</td>\n",
       "    </tr>\n",
       "    <tr>\n",
       "      <th>1.0</th>\n",
       "      <td>352</td>\n",
       "      <td>404</td>\n",
       "    </tr>\n",
       "  </tbody>\n",
       "</table>\n",
       "</div>"
      ],
      "text/plain": [
       "     0.0  1.0\n",
       "0.0  485  266\n",
       "1.0  352  404"
      ]
     },
     "execution_count": 63,
     "metadata": {
      "tags": []
     },
     "output_type": "execute_result"
    }
   ],
   "source": [
    "#columns are predicted, rows are truth\n",
    "predicted = probs.argmax(axis=1)\n",
    "y_index = y_val_binary.argmax(axis=1)\n",
    "labels=y_train_binary_2[1]\n",
    "\n",
    "confusion_matrix = pd.crosstab(pd.Series(y_index), pd.Series(predicted))\n",
    "confusion_matrix.index = [labels[i] for i in confusion_matrix.index]\n",
    "confusion_matrix.columns = [labels[i] for i in confusion_matrix.columns]\n",
    "confusion_matrix.reindex(columns=[l for l in labels], fill_value=0)\n",
    "confusion_matrix\n",
    "\n"
   ]
  },
  {
   "cell_type": "code",
   "execution_count": 0,
   "metadata": {
    "colab": {
     "base_uri": "https://localhost:8080/",
     "height": 706
    },
    "colab_type": "code",
    "executionInfo": {
     "elapsed": 715,
     "status": "ok",
     "timestamp": 1550582647879,
     "user": {
      "displayName": "isaamarod colabs_google",
      "photoUrl": "",
      "userId": "07524249469007373927"
     },
     "user_tz": -60
    },
    "id": "K59O9mwg6sFr",
    "outputId": "e0ef0b67-8994-4389-958d-4f1fdb552502"
   },
   "outputs": [
    {
     "data": {
      "image/png": "[encoded data removed]",
      "text/plain": [
       "<Figure size 576x396 with 2 Axes>"
      ]
     },
     "metadata": {
      "tags": []
     },
     "output_type": "display_data"
    },
    {
     "data": {
      "image/png": "[encoded data removed]",
      "text/plain": [
       "<Figure size 576x396 with 1 Axes>"
      ]
     },
     "metadata": {
      "tags": []
     },
     "output_type": "display_data"
    }
   ],
   "source": [
    "fprs,tprs,thresholds = metrics.roc_curve(pd.Series(y_index),pd.Series(predicted))\n",
    "\n",
    "sns.heatmap(confusion_matrix,annot=True, fmt=\"d\")\n",
    "plt.show()\n",
    "\n",
    "plt.plot(fprs, tprs)\n",
    "plt.xlim([0.0, 1.0])\n",
    "plt.ylim([0.0, 1.0])\n",
    "plt.title(\"Curva ROC\")\n",
    "plt.xlabel(\"FPR\")\n",
    "plt.ylabel(\"TPR\")\n",
    "plt.grid(True)\n",
    "plt.show()\n"
   ]
  },
  {
   "cell_type": "markdown",
   "metadata": {
    "colab_type": "text",
    "id": "t9oMn4BQ1XAq"
   },
   "source": [
    "**Accuracy de la predicción sobre validación**"
   ]
  },
  {
   "cell_type": "markdown",
   "metadata": {
    "colab_type": "text",
    "id": "AgDwNc9hz9pT"
   },
   "source": [
    "Si calculamos el accuracy en este caso: \n",
    "![texto alternativo](https://cdn-images-1.medium.com/max/1600/1*5XuZ_86Rfce3qyLt7XMlhw.png)\n",
    "\n",
    "accuracy= 58%"
   ]
  },
  {
   "cell_type": "markdown",
   "metadata": {
    "colab_type": "text",
    "id": "6muY8HgtUV5Z"
   },
   "source": [
    "# Test sobre en conjunto de Test con evaluate"
   ]
  },
  {
   "cell_type": "markdown",
   "metadata": {
    "colab_type": "text",
    "id": "JI0lSjOhyNIa"
   },
   "source": [
    "La función evaluate consiste en dados unos datos y una etiquetas calcula xómo de bien se le ajusta el modelo"
   ]
  },
  {
   "cell_type": "code",
   "execution_count": 0,
   "metadata": {
    "colab": {
     "base_uri": "https://localhost:8080/",
     "height": 89
    },
    "colab_type": "code",
    "executionInfo": {
     "elapsed": 60049,
     "status": "ok",
     "timestamp": 1550583893150,
     "user": {
      "displayName": "isaamarod colabs_google",
      "photoUrl": "",
      "userId": "07524249469007373927"
     },
     "user_tz": -60
    },
    "id": "NbiRC91ignB_",
    "outputId": "91288850-d170-41ac-d788-638d313ce4ac"
   },
   "outputs": [
    {
     "name": "stdout",
     "output_type": "stream",
     "text": [
      "1883/1883 [==============================] - 60s 32ms/step\n",
      "\n",
      "Testing loss: 0.6661958125634074, acc: 0.612320764483889\n",
      "\n"
     ]
    }
   ],
   "source": [
    "## Test on Testset\n",
    "loss, acc = model.evaluate(X_test, y_test_binary, verbose=True)\n",
    "\n",
    "print('\\nTesting loss: {}, acc: {}\\n'.format(loss, acc))\n",
    "\n"
   ]
  },
  {
   "cell_type": "markdown",
   "metadata": {
    "colab_type": "text",
    "id": "Qr4vR7mc39L3"
   },
   "source": [
    "Como se puede observar el resultado se ajunta bastante al accuracy que se consiguió con el conjuno de validación con un 61%."
   ]
  }
 ],
 "metadata": {
  "colab": {
   "collapsed_sections": [],
   "name": "ML_McFly_DeepConvLSTM_new.ipynb",
   "provenance": [],
   "version": "0.3.2"
  },
  "kernelspec": {
   "display_name": "Python 3",
   "language": "python",
   "name": "python3"
  },
  "language_info": {
   "codemirror_mode": {
    "name": "ipython",
    "version": 3
   },
   "file_extension": ".py",
   "mimetype": "text/x-python",
   "name": "python",
   "nbconvert_exporter": "python",
   "pygments_lexer": "ipython3",
   "version": "3.6.8"
  }
 },
 "nbformat": 4,
 "nbformat_minor": 1
}

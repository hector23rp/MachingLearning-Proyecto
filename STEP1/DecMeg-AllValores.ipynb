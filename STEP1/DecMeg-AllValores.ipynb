{
 "cells": [
  {
   "cell_type": "markdown",
   "metadata": {},
   "source": [
    "# DecMeg2014 - Decoding the Human Brain (Simple Example)"
   ]
  },
  {
   "cell_type": "markdown",
   "metadata": {},
   "source": [
    "Ejemplo sencillo del proyecto.\n",
    "\n",
    "En ese ejemplo se realizan los siguientes pasos:\n",
    "\n",
    "    - Coger los archivos del 1 al 16 .mat.\n",
    "    - Preprocesamiento: Coge todos los valores de las series (1.5s) y los normaliza mediante z-score\n",
    "    - Realiza una separación de los datos con 80% para entrenar y 20% para validar.\n",
    "    - Aplicación de una red LSTM sencilla.\n",
    "    - Evaluación de la accuracy, matriz de confusión y curva ROC"
   ]
  },
  {
   "cell_type": "markdown",
   "metadata": {},
   "source": [
    "### Documentación\n",
    "\n",
    "Repositorio de Kaggle: \n",
    " https://www.kaggle.com/c/decoding-the-human-brain\n",
    "\n",
    "Repositorio de Github (Ejemplos de códigos en Matlab y Python):\n",
    "https://github.com/FBK-NILab/DecMeg2014"
   ]
  },
  {
   "cell_type": "markdown",
   "metadata": {},
   "source": [
    "### Importación de librerías"
   ]
  },
  {
   "cell_type": "code",
   "execution_count": 8,
   "metadata": {},
   "outputs": [],
   "source": [
    "import numpy as np\n",
    "import pandas as pd\n",
    "from sklearn.linear_model import LogisticRegression\n",
    "from sklearn.model_selection import train_test_split\n",
    "from sklearn import metrics\n",
    "from scipy.io import loadmat\n",
    "import seaborn as sns\n",
    "import matplotlib.pyplot as plt\n",
    "\n",
    "## Red LSTM\n",
    "from keras.models import Sequential\n",
    "from keras.layers import Dense\n",
    "from keras.layers import LSTM\n",
    "from keras.layers.normalization import BatchNormalization"
   ]
  },
  {
   "cell_type": "markdown",
   "metadata": {},
   "source": [
    "### Coger los datos de los archivos .mat"
   ]
  },
  {
   "cell_type": "markdown",
   "metadata": {},
   "source": [
    "#### Preprocesamiento: normalizarlos"
   ]
  },
  {
   "cell_type": "markdown",
   "metadata": {},
   "source": [
    "Creamos una función \"create_features\" que se encargará de devolver los valores X. En esta función, se realiza todo el procesamiento de los datos. Los preprocesamiento que realiza son:\n",
    "\n",
    "    1. Paso de la lista X de 3D a 2D. Poniendo como filas el primer elemento (las diferentes pruebas) y como columnas se hace un join del segundo elemento(series temporales o canales) y del tercer elemento(valores de cada serie temporal) (Este paso lo quitamos para realizar la clasificacion con LSTM, que como entrada las dimensiones deben ser 3D)\n",
    "    \n",
    "    2. Normalizamos los valores restandolos por la media y dividiéndolo por la desviación típica"
   ]
  },
  {
   "cell_type": "code",
   "execution_count": 3,
   "metadata": {},
   "outputs": [],
   "source": [
    "def create_features(XX, tmin, tmax, sfreq, tmin_original=-0.5):\n",
    "    \"\"\"Creation of the feature space:\n",
    "    - restricting the time window of MEG data to [tmin, tmax]sec.\n",
    "    - Concatenating the 306 timeseries of each trial in one long\n",
    "      vector.\n",
    "    - Normalizing each feature independently (z-scoring).\n",
    "    \"\"\"\n",
    "    \"\"\"print(\"Applying the desired time window.\")\n",
    "    beginning = np.round((tmin - tmin_original) * sfreq).astype(np.int)\n",
    "    end = np.round((tmax - tmin_original) * sfreq).astype(np.int)\n",
    "    XX = XX[:, :, beginning:end].copy()\"\"\"\n",
    "\n",
    "    #print(\"2D Reshaping: concatenating all 306 timeseries.\")\n",
    "    #XX = XX.reshape(XX.shape[0], XX.shape[1] * XX.shape[2])\n",
    "\n",
    "    print(\"Features Normalization.\")\n",
    "    XX -= XX.mean(0)\n",
    "    XX = np.nan_to_num(XX / XX.std(0))\n",
    "\n",
    "    return XX"
   ]
  },
  {
   "cell_type": "markdown",
   "metadata": {},
   "source": [
    "#### Coger todos los .mat en un array aplicando el preprocesado"
   ]
  },
  {
   "cell_type": "markdown",
   "metadata": {},
   "source": [
    "Cogemos los datos de los ficheros train_subject13.mat, del 13 al 16. En esta etapa se realizan varios pasos:\n",
    "\n",
    "    1. Creamos una lista X_train y y_train que contendrán todos los datos para realizar el entrenamiento. \n",
    "    \n",
    "    2. Por cada uno de los ficheros, llamamos a la función create_features para que realice el correspondiente preprocesamiento de los datos.\n",
    "    \n",
    "    3. Una vez tenemos los datos del fichero, los agregamos a la lista.\n",
    "    \n",
    "    4. Una vez tenemos todas las listas en la lista, creamos un array realizando un join de las listas dentro de la lista. Para eso utilizamos la función vstack de la librería numpy"
   ]
  },
  {
   "cell_type": "code",
   "execution_count": 4,
   "metadata": {},
   "outputs": [
    {
     "name": "stdout",
     "output_type": "stream",
     "text": [
      "Training on subjects range(1, 17)\n",
      "Restricting MEG data to the interval [0.0, 0.5]sec.\n",
      "Creating the trainset.\n",
      "Loading /home/isa/Escritorio/Universidad/master/ML/PROYECTO/data/data/train_subject01.mat\n",
      "Dataset summary:\n",
      "XX: (594, 306, 375)\n",
      "yy: (594,)\n",
      "sfreq: 250.0\n",
      "Features Normalization.\n",
      "XX (Preprocessed):  (594, 306, 375)\n",
      "Loading /home/isa/Escritorio/Universidad/master/ML/PROYECTO/data/data/train_subject02.mat\n",
      "Dataset summary:\n",
      "XX: (586, 306, 375)\n",
      "yy: (586,)\n",
      "sfreq: 250.0\n",
      "Features Normalization.\n",
      "XX (Preprocessed):  (586, 306, 375)\n",
      "Loading /home/isa/Escritorio/Universidad/master/ML/PROYECTO/data/data/train_subject03.mat\n",
      "Dataset summary:\n",
      "XX: (578, 306, 375)\n",
      "yy: (578,)\n",
      "sfreq: 250.0\n",
      "Features Normalization.\n",
      "XX (Preprocessed):  (578, 306, 375)\n",
      "Loading /home/isa/Escritorio/Universidad/master/ML/PROYECTO/data/data/train_subject04.mat\n",
      "Dataset summary:\n",
      "XX: (594, 306, 375)\n",
      "yy: (594,)\n",
      "sfreq: 250.0\n",
      "Features Normalization.\n",
      "XX (Preprocessed):  (594, 306, 375)\n",
      "Loading /home/isa/Escritorio/Universidad/master/ML/PROYECTO/data/data/train_subject05.mat\n",
      "Dataset summary:\n",
      "XX: (586, 306, 375)\n",
      "yy: (586,)\n",
      "sfreq: 250.0\n",
      "Features Normalization.\n",
      "XX (Preprocessed):  (586, 306, 375)\n",
      "Loading /home/isa/Escritorio/Universidad/master/ML/PROYECTO/data/data/train_subject06.mat\n",
      "Dataset summary:\n",
      "XX: (588, 306, 375)\n",
      "yy: (588,)\n",
      "sfreq: 250.0\n",
      "Features Normalization.\n",
      "XX (Preprocessed):  (588, 306, 375)\n",
      "Loading /home/isa/Escritorio/Universidad/master/ML/PROYECTO/data/data/train_subject07.mat\n",
      "Dataset summary:\n",
      "XX: (588, 306, 375)\n",
      "yy: (588,)\n",
      "sfreq: 250.0\n",
      "Features Normalization.\n",
      "XX (Preprocessed):  (588, 306, 375)\n",
      "Loading /home/isa/Escritorio/Universidad/master/ML/PROYECTO/data/data/train_subject08.mat\n",
      "Dataset summary:\n",
      "XX: (592, 306, 375)\n",
      "yy: (592,)\n",
      "sfreq: 250.0\n",
      "Features Normalization.\n",
      "XX (Preprocessed):  (592, 306, 375)\n",
      "Loading /home/isa/Escritorio/Universidad/master/ML/PROYECTO/data/data/train_subject09.mat\n",
      "Dataset summary:\n",
      "XX: (594, 306, 375)\n",
      "yy: (594,)\n",
      "sfreq: 250.0\n",
      "Features Normalization.\n",
      "XX (Preprocessed):  (594, 306, 375)\n",
      "Loading /home/isa/Escritorio/Universidad/master/ML/PROYECTO/data/data/train_subject10.mat\n",
      "Dataset summary:\n",
      "XX: (590, 306, 375)\n",
      "yy: (590,)\n",
      "sfreq: 250.0\n",
      "Features Normalization.\n",
      "XX (Preprocessed):  (590, 306, 375)\n",
      "Loading /home/isa/Escritorio/Universidad/master/ML/PROYECTO/data/data/train_subject11.mat\n",
      "Dataset summary:\n",
      "XX: (592, 306, 375)\n",
      "yy: (592,)\n",
      "sfreq: 250.0\n",
      "Features Normalization.\n",
      "XX (Preprocessed):  (592, 306, 375)\n",
      "Loading /home/isa/Escritorio/Universidad/master/ML/PROYECTO/data/data/train_subject12.mat\n",
      "Dataset summary:\n",
      "XX: (586, 306, 375)\n",
      "yy: (586,)\n",
      "sfreq: 250.0\n",
      "Features Normalization.\n",
      "XX (Preprocessed):  (586, 306, 375)\n",
      "Loading /home/isa/Escritorio/Universidad/master/ML/PROYECTO/data/data/train_subject13.mat\n",
      "Dataset summary:\n",
      "XX: (588, 306, 375)\n",
      "yy: (588,)\n",
      "sfreq: 250.0\n",
      "Features Normalization.\n",
      "XX (Preprocessed):  (588, 306, 375)\n",
      "Loading /home/isa/Escritorio/Universidad/master/ML/PROYECTO/data/data/train_subject14.mat\n",
      "Dataset summary:\n",
      "XX: (588, 306, 375)\n",
      "yy: (588,)\n",
      "sfreq: 250.0\n",
      "Features Normalization.\n",
      "XX (Preprocessed):  (588, 306, 375)\n",
      "Loading /home/isa/Escritorio/Universidad/master/ML/PROYECTO/data/data/train_subject15.mat\n",
      "Dataset summary:\n",
      "XX: (580, 306, 375)\n",
      "yy: (580,)\n",
      "sfreq: 250.0\n",
      "Features Normalization.\n",
      "XX (Preprocessed):  (580, 306, 375)\n",
      "Loading /home/isa/Escritorio/Universidad/master/ML/PROYECTO/data/data/train_subject16.mat\n",
      "Dataset summary:\n",
      "XX: (590, 306, 375)\n",
      "yy: (590,)\n",
      "sfreq: 250.0\n",
      "Features Normalization.\n",
      "XX (Preprocessed):  (590, 306, 375)\n",
      "Trainset: (9414, 306, 375)\n"
     ]
    }
   ],
   "source": [
    "subjects_train = range(1, 17) # use range(13, 16) for all subjects\n",
    "print(\"Training on subjects\", subjects_train )\n",
    "\n",
    "# We throw away all the MEG data outside the first 0.5sec from when\n",
    "# the visual stimulus start:\n",
    "tmin = 0.0\n",
    "tmax = 0.500\n",
    "print(\"Restricting MEG data to the interval [%s, %s]sec.\" % (tmin, tmax))\n",
    "\n",
    "X_train = []\n",
    "y_train = []\n",
    "X_test = []\n",
    "ids_test = []\n",
    "\n",
    "print(\"Creating the trainset.\")\n",
    "for subject in subjects_train:\n",
    "    filename = '/home/isa/Escritorio/Universidad/master/ML/PROYECTO/data/data/train_subject%02d.mat' % subject\n",
    "    print(\"Loading\", filename)\n",
    "    data = loadmat(filename, squeeze_me=True)\n",
    "    XX = data['X']\n",
    "    yy = data['y']\n",
    "    sfreq = data['sfreq']\n",
    "    tmin_original = data['tmin']\n",
    "    print(\"Dataset summary:\")\n",
    "    print(\"XX:\", XX.shape)\n",
    "    print(\"yy:\", yy.shape)\n",
    "    print(\"sfreq:\", sfreq)\n",
    "\n",
    "    XX = create_features(XX, tmin, tmax, sfreq)\n",
    "    \n",
    "    print(\"XX (Preprocessed): \", XX.shape)\n",
    "\n",
    "    X_train.append(XX)\n",
    "    y_train.append(yy)\n",
    "    \n",
    "X_train = np.vstack(X_train)\n",
    "y_train = np.concatenate(y_train)\n",
    "print(\"Trainset:\", X_train.shape)"
   ]
  },
  {
   "cell_type": "markdown",
   "metadata": {},
   "source": [
    "### Separación de archivos train/test"
   ]
  },
  {
   "cell_type": "code",
   "execution_count": 5,
   "metadata": {},
   "outputs": [
    {
     "name": "stdout",
     "output_type": "stream",
     "text": [
      "X_train_new:  (7531, 306, 375)\n",
      "y_train_new:  (7531,)\n",
      "X_test:  (1883, 306, 375)\n",
      "y_test:  (1883,)\n",
      "[0 1 1 ... 1 1 0]\n"
     ]
    }
   ],
   "source": [
    "X_train_new, X_test, y_train_new, y_test = train_test_split(X_train,y_train,test_size=0.2)\n",
    "print(\"X_train_new: \",X_train_new.shape)\n",
    "print(\"y_train_new: \",y_train_new.shape)\n",
    "print(\"X_test: \",X_test.shape)\n",
    "print(\"y_test: \",y_test.shape)\n",
    "print(y_test)"
   ]
  },
  {
   "cell_type": "markdown",
   "metadata": {},
   "source": [
    "### Red LSTM"
   ]
  },
  {
   "cell_type": "markdown",
   "metadata": {},
   "source": [
    "#### Creación de la red"
   ]
  },
  {
   "cell_type": "markdown",
   "metadata": {},
   "source": [
    "Para crear la red LSTM vamos a utilizar la librería de keras. En concreto, crearemos un modelo secuencial que contenga como modelo de entrada una red recursiva (Red LSTM).\n",
    "\n",
    "El primer paso será la creación de la red. En este paso, creamos una instancia de modelo secuencial, y agregamos los modelos que queramos. En este caso, agregamos una red LSTM pasándole como parámetros el número de parámetros o nodos que tendrá la salida (3) y las dimensiones que tendrá los parámetros de entrada (en este parámetro debemos especificar el tamaño de las columnas: 306, 375). Hay que destacar que los tamaños de los parámetros de entrada (input_shape) sólo se le debe pasar al primer modelo y dichas dimensiones deben ser 3D.\n",
    "\n",
    "Como segundo modelo le pasamos el modelo Dense.\n",
    "\n",
    "Tras crear el modelo, lo compilamos antes de empezar a entrenarlo. En ese paso hay que especificar 3 parámetros (Estos parámetros podemos ir variándolos para ir probando):\n",
    "\n",
    "    - Opimizador\n",
    "    \n",
    "    - Función de pérdida\n",
    "    \n",
    "    - Lista de métricas\n",
    "    \n",
    "El último paso es entrenar el modelo, para ello se le pasa los datos de entrenamiento y las etiquetas. En este ejemplo, también se le pasa datos de test para que entrene mediante validación. A parte de estos parámetros, se especifica el número de épocas en 7 (cada época corresponde una iteración de entrenamiento)."
   ]
  },
  {
   "cell_type": "code",
   "execution_count": 10,
   "metadata": {},
   "outputs": [
    {
     "name": "stdout",
     "output_type": "stream",
     "text": [
      "_________________________________________________________________\n",
      "Layer (type)                 Output Shape              Param #   \n",
      "=================================================================\n",
      "lstm_4 (LSTM)                (None, 3)                 4548      \n",
      "_________________________________________________________________\n",
      "dense_4 (Dense)              (None, 1)                 4         \n",
      "=================================================================\n",
      "Total params: 4,552\n",
      "Trainable params: 4,552\n",
      "Non-trainable params: 0\n",
      "_________________________________________________________________\n",
      "Train on 7531 samples, validate on 1883 samples\n",
      "Epoch 1/7\n",
      "7531/7531 [==============================] - 57s 8ms/step - loss: 0.6983 - acc: 0.5022 - val_loss: 0.6958 - val_acc: 0.4987\n",
      "Epoch 2/7\n",
      "7531/7531 [==============================] - 56s 7ms/step - loss: 0.6882 - acc: 0.5370 - val_loss: 0.6953 - val_acc: 0.5146\n",
      "Epoch 3/7\n",
      "7531/7531 [==============================] - 50s 7ms/step - loss: 0.6794 - acc: 0.5630 - val_loss: 0.6953 - val_acc: 0.5088\n",
      "Epoch 4/7\n",
      "7531/7531 [==============================] - 48s 6ms/step - loss: 0.6684 - acc: 0.5961 - val_loss: 0.6978 - val_acc: 0.5072\n",
      "Epoch 5/7\n",
      "7531/7531 [==============================] - 49s 7ms/step - loss: 0.6557 - acc: 0.6212 - val_loss: 0.7046 - val_acc: 0.5024\n",
      "Epoch 6/7\n",
      "7531/7531 [==============================] - 55s 7ms/step - loss: 0.6423 - acc: 0.6347 - val_loss: 0.7097 - val_acc: 0.5045\n",
      "Epoch 7/7\n",
      "7531/7531 [==============================] - 53s 7ms/step - loss: 0.6293 - acc: 0.6505 - val_loss: 0.7185 - val_acc: 0.4965\n"
     ]
    },
    {
     "data": {
      "text/plain": [
       "<keras.callbacks.History at 0x7f321e28ceb8>"
      ]
     },
     "execution_count": 10,
     "metadata": {},
     "output_type": "execute_result"
    }
   ],
   "source": [
    "# Creación de la red\n",
    "model = Sequential()\n",
    "model.add(LSTM(3, input_shape=(306, 375)))\n",
    "model.add(Dense(1, activation='sigmoid'))\n",
    "model.summary()\n",
    "\n",
    "# Compilación de la red\n",
    "model.compile(optimizer='rmsprop',\n",
    "              loss='binary_crossentropy',\n",
    "              metrics=['accuracy'])\n",
    "\n",
    "# Entrenamiento de la red\n",
    "model.fit(X_train_new,y_train_new, validation_data=(X_test,y_test), epochs=7)"
   ]
  },
  {
   "cell_type": "markdown",
   "metadata": {},
   "source": [
    "#### Predicciones"
   ]
  },
  {
   "cell_type": "markdown",
   "metadata": {},
   "source": [
    "En este paso realizamos una predicción de los datos. Hay que tener en cuenta que el modelo devuelve como predicción valores float entre 0 y 1. Por lo que los pasamos a 0 y 1 dependiendo si su valor es mayor de 0.5 o no"
   ]
  },
  {
   "cell_type": "code",
   "execution_count": 11,
   "metadata": {},
   "outputs": [
    {
     "data": {
      "image/png": "[encoded data removed]",
      "text/plain": [
       "<Figure size 432x288 with 2 Axes>"
      ]
     },
     "metadata": {
      "needs_background": "light"
     },
     "output_type": "display_data"
    },
    {
     "data": {
      "image/png": "[encoded data removed]",
      "text/plain": [
       "<Figure size 432x288 with 1 Axes>"
      ]
     },
     "metadata": {
      "needs_background": "light"
     },
     "output_type": "display_data"
    }
   ],
   "source": [
    "def convert(x):\n",
    "    result = []\n",
    "    for i in range(len(x)):\n",
    "        if x[i] < 0.5:\n",
    "            result.append(0)\n",
    "        else:\n",
    "            result.append(1)\n",
    "    return result\n",
    "# Predecimos a partir de los datos de test\n",
    "y_pred = model.predict(X_test)\n",
    "y_proba = model.predict_proba(X_test)\n",
    "y_pred = convert(y_pred)\n",
    "#print(y_proba)\n",
    "\n",
    "fprs,tprs,thresholds = metrics.roc_curve(y_test,y_proba)\n",
    "\n",
    "# Evaluación\n",
    "sns.heatmap(metrics.confusion_matrix(y_test,y_pred),annot=True, fmt=\"d\")\n",
    "plt.show()\n",
    "\n",
    "plt.plot(fprs, tprs)\n",
    "plt.xlim([0.0, 1.0])\n",
    "plt.ylim([0.0, 1.0])\n",
    "plt.title(\"Curva ROC\")\n",
    "plt.xlabel(\"FPR\")\n",
    "plt.ylabel(\"TPR\")\n",
    "plt.grid(True)\n",
    "plt.show()"
   ]
  },
  {
   "cell_type": "code",
   "execution_count": null,
   "metadata": {},
   "outputs": [],
   "source": []
  }
 ],
 "metadata": {
  "kernelspec": {
   "display_name": "Python 3",
   "language": "python",
   "name": "python3"
  },
  "language_info": {
   "codemirror_mode": {
    "name": "ipython",
    "version": 3
   },
   "file_extension": ".py",
   "mimetype": "text/x-python",
   "name": "python",
   "nbconvert_exporter": "python",
   "pygments_lexer": "ipython3",
   "version": "3.6.8"
  }
 },
 "nbformat": 4,
 "nbformat_minor": 2
}
